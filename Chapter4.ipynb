{
 "cells": [
  {
   "cell_type": "markdown",
   "metadata": {},
   "source": [
    "# Chapter 4: Interest Rates\n",
    "\n",
    "# 4.1 Type of Rates\n",
    "\n",
    "One important factor influencing interest rates is credit risk, the higher it is, the higher the interest rate that is promised by the borrower.\n",
    "The extra amount added to a risk-free investment to allow for credit risk is called **credit spread**.\n",
    "\n",
    "Interest rates are often expressed in basis points. One basis point is 0.01% per annum.\n",
    "\n",
    "## Treasury Rates\n",
    "Treasury rates are rates that an investor earns on Treasury bills and Treasury bonds. These are the instruments used by a government to borrow in its own currency\n",
    "\n",
    "## Overnight Rates\n",
    "\n",
    "Banks are required to maintain a certain amount of cash, known as a reserve, with the central bank. The reserve requirement for a bank at any time depends on its outstanding\n",
    "assets and liabilities. At the end of a day, some financial institutions typically have surplus funds in their accounts with the central bank while others have requirements for funds. This leads to borrowing and lending overnight\n",
    "\n",
    "**Overnight rate** is called the federal funds rate. \n",
    "**effective federal funds rate**: weighted average of the rates in brokered transactions (with weights being determined by the size of the transaction)\n",
    "\n",
    "This overnight rate is monitored by the Federal Reserve, which may intervene with its own transactions in an attempt to raise or lower it.\n",
    "\n",
    "\n",
    "## Repo rates\n",
    "Repo rates are secured borrowing rates.\n",
    "In a repo (or repurchase agreement), a financial institution that owns securities agrees to sell the securities for a certain price and buy them back at a later time for a slightly higher price.\n",
    "\n",
    "The **secured overnight financing rate (SOFR)** is an important volume-weighted median\n",
    "average of the rates on overnight repo transactions in the United States."
   ]
  },
  {
   "cell_type": "markdown",
   "metadata": {},
   "source": [
    "# 4.2 Reference Rates\n",
    "\n",
    "## LIBOR\n",
    "\n",
    "A problem with LIBOR is that there is not enough borrowing between banks for a\n",
    "bank’s estimates to be determined by market transactions. As a result, LIBOR sub-­\n",
    "missions by banks involved a certain amount of judgment and could be subject to\n",
    "manipulation. Bank regulators are uncomfortable with this and have developed plans\n",
    "to phase out the use of LIBOR.\n",
    "\n",
    "## The new Reference Rates\n",
    "The plan is to base reference rates on the overnight rates.\n",
    "1. USA: SOFR\n",
    "2. U.K.: SONIA\n",
    "3. Eurozone: ESTER\n",
    "4. Switzerland: SARON\n",
    "5. Japan: TONAR\n",
    "\n",
    "Longer rates such as three-month rates, six-month rates, or one-year rates can be determined from overnight rates by compounding them daily.\n",
    "\n",
    "Suppose that (annualized) SOFR overnight reate on i-th business day of a period is r_i (1 <= i <= n) and the rate applies to d_i days. \n",
    "\n",
    "The annualized interest rate for the period is:\n",
    "\\begin{equation*}\n",
    "  [(1 + r_1 \\hat{d}_1)(1 + r_2 \\hat{d}_2) \\cdot (1 + r_n \\hat{d}_n) - 1] \\frac{360}{D}\n",
    "\\end{equation*}\n",
    "\n",
    "On most days, $d_i = 1$, but weekends and holidays lead to the overnight rates being applied to more than one day.\n",
    "\n",
    "The new reference rates are regarded as risk-free because they are derived from one-day loans to creditworthy financial institutions. LIBOR, by contrast, incorporates a credit spread. LIBOR rates are forward looking. They are determined at the beginning of the period to which they will apply. The new reference rates are backward looking. The rate applicable to a particular period is not known until the end of the period when all the relevant overnight rates have been observed."
   ]
  },
  {
   "cell_type": "code",
   "execution_count": null,
   "metadata": {},
   "outputs": [],
   "source": [
    "# r_i = []\n",
    "# d_i = []\n",
    "\n",
    "# annualized_int_rate = np.product()"
   ]
  },
  {
   "cell_type": "markdown",
   "metadata": {},
   "source": [
    "## Reference Rates and Credit Risk\n",
    "One problem faced by banks is that credit spreads in the economy increase in stressed market conditions. For example, the spread between three-month LIBOR and a three-month rate based on overnight rates is usually about 10 basis points (0.1%), but it can be much higher in stressed market conditions. For example, it spiked to an all-time\n",
    "high of 364 basis points (3.64%) in the United States in October 2008 during the financial crisis. If a bank offers a loan at a reference rate plus x%, where x is a constant,\n",
    "it would like the rate to reflect ups and downs in average credit spreads. LIBOR, when used as a reference rate, did this, but the new reference rates (because they are\n",
    "essentially risk-free) do not. This has led banks to ask for a way of creating risky reference rates by adding a credit spread to the new reference rates. There have been a\n",
    "number of proposals and the new risk-free reference rates may be augmented by credit spread measures in the future."
   ]
  },
  {
   "cell_type": "markdown",
   "metadata": {},
   "source": [
    "# 4.3 The Risk-Free Rate\n",
    "\n",
    "The usual approach to valuing derivatives involves setting up a riskless portfolio and arguing that the return on the portfolio should be the risk-free rate. The\n",
    "risk-free rate therefore plays a central role in derivatives pricing.\n",
    "\n",
    "Derivatives traders do not use rates on T-bills nad T-bonds as risk free rates. This is because there are tax and regulatory factors that lead to Treasury rates being artificially low. For example:\n",
    "1. Banks are not required to keep capital for investments in a Treasury instruments, but they are required to keep capital for other very low risk instruments.\n",
    "2. In the United States, Treasury instruments are given favorable tax treatment compared with other very low risk instruments because the interest earned by investors is not taxed at the state level."
   ]
  },
  {
   "cell_type": "markdown",
   "metadata": {},
   "source": [
    "# 4.4 Measuring Interest Rates\n",
    "Compounding frequency affects the value of the total interest, for an example of a principal of $100 and interest rate of 10% at the end of 1 year:\n",
    "- Annually (m=1): 110.00\n",
    "  Semiannually (m=2): 110.25\n",
    "- Quaterly (m=4): 110.38\n",
    "- Monthly (m=12): 110.47\n",
    "- Weekly (m=52): 110.51\n",
    "- Daily (m=365): 110.52\n",
    "\n",
    "Terminal value of investement with $R$ interest rate, principal amount $A$, and compounded $m$ times per annum for $n$ years:\n",
    "\\begin{equation*}\n",
    "  A(1 + \\frac{R}{m})^{mn}\n",
    "\\end{equation*}\n",
    "\n",
    "When m = 1, the rate is sometimes referred to as the equivalent annual interest rate\n",
    "\n",
    "## Continuous Compounding\n",
    "\n",
    "The limit as the compounding frequency, m, tends to infinity is known as continuous compounding.\n",
    "With continuous compoudning, it can be shown that an amount A invested for n years at rate R grows to:\n",
    "\n",
    "\\begin{equation*}\n",
    "  Ae^{Rn}\n",
    "\\end{equation*}\n"
   ]
  },
  {
   "cell_type": "code",
   "execution_count": 2,
   "metadata": {},
   "outputs": [
    {
     "name": "stdout",
     "output_type": "stream",
     "text": [
      "Value after continuous compounding:  110.51709180756477\n"
     ]
    }
   ],
   "source": [
    "import numpy as np\n",
    "\n",
    "# For A = 100, R = 0.1, n = 1.\n",
    "val_after_continuous_compounding = 100 * np.exp(0.1 )\n",
    "print(\"Value after continuous compounding: \", val_after_continuous_compounding)"
   ]
  },
  {
   "cell_type": "markdown",
   "metadata": {},
   "source": [
    "For most practical purposes, continuous compounding can be thought of as being equivalent to daily compounding.\n",
    "\n",
    "To convert a rate with compounding frequency of m times per annum to a continuously compounded rate and vice versa:\n",
    "\n",
    "\\begin{equation*}\n",
    "\\begin{split}\n",
    "  R_m &=  m (e^{\\frac{R_c}{m}} - 1) \\\\\n",
    "  R_c &=  m\\ ln (1 + \\frac{R_m}{m})\n",
    "\\end{split}\n",
    "\\end{equation*}\n",
    "\n"
   ]
  },
  {
   "cell_type": "code",
   "execution_count": 9,
   "metadata": {},
   "outputs": [
    {
     "name": "stdout",
     "output_type": "stream",
     "text": [
      "Interest rate that is 10% per annum with semiannual compounding:  0.0975803283388641\n",
      "8% continuous compounding and interest paid quaterly :  0.0808053601070231\n"
     ]
    }
   ],
   "source": [
    "def fixedToContinuousCompound(R_m, m):\n",
    "  return m * np.log(1 + R_m /m)\n",
    "\n",
    "def continuousToFixedCompound(R_c, m):\n",
    "  return m * (np.exp(R_c/m) - 1)\n",
    "\n",
    "print(\"Interest rate that is 10% per annum with semiannual compounding: \", \n",
    "      fixedToContinuousCompound(0.1, 2))\n",
    "print(\"8% continuous compounding and interest paid quarterly : \", \n",
    "      continuousToFixedCompound(0.08, 4))"
   ]
  },
  {
   "cell_type": "markdown",
   "metadata": {},
   "source": [
    "# 4.5 Zero Rates\n",
    "The n-year zero-coupon interest rate is the rate of interest earned on an investment that starts today and lasts for n years.\n",
    "\n",
    "All the interest and principal is realized at the end of n years. There are no intermediate payments.\n",
    "\n",
    "The n-year zero-coupon interest rate is also known as the n-year spot rate/the n-year zero rate/ n-year zero.\n",
    "\n",
    "Suppose a 5-year zero rate with continuous compounding is quoted as 5% per annum. This means that $100, if invested for 5 years, grows to:\n",
    "\\begin{equation*}\n",
    "  100 e^{0.05 \\times 5} = 128.40\n",
    "\\end{equation*}\n",
    "\n",
    "\n",
    "Most of the interest rates we observe directly in the market are not pure zero rates.\n",
    "\n"
   ]
  },
  {
   "cell_type": "markdown",
   "metadata": {},
   "source": [
    "# 4.6 Bond Pricing\n",
    "\n",
    "Most bonds pay coupons to the holder periodically. The bond’s principal (which is also known as its par value or face value) is paid at the end of its life.\n",
    "The theoretical price of a bond can be calculated as the present value of all the cash flows that will be received by the owner of the bond. Sometimes bond traders use the same discount rate for all the cash flows underlying a bond, but a more accurate approach is to use a different zero rate for each cash flow.\n",
    "\n",
    "A more accurate approach is to use a different zero rate for each cash flow. \n",
    "Suppose that a 2-year bond with a principal of $100 provides coupons at the rate of 6% per annum semiannually. \n",
    "- To calculate the present value of the first coupon of $3, we discount it at 5.0% for 6 months.\n",
    "- to calculate the present value of the second coupon of $3, we discount it at 5.8% for 1 year; and so on\n",
    "\n",
    "\\begin{equation*}\n",
    "  3 e^{-0.05 \\times 0.5} + 3 e^{-0.058 \\times 1.0} + 3 e^{-0.064 \\times 1.5} + 103 e^{-0.068 \\times 2.0} = 98.39\n",
    "\\end{equation*}\n",
    "\n",
    "| Maturity (years)   | Zero Rate (%) |\n",
    "| -------- | ------- |\n",
    "| 0.5  | 5.0    |\n",
    "| 1.0 |  5.8    |\n",
    "| 1.5    | 6.4    |\n",
    "| 2.0    | 6.8    |"
   ]
  },
  {
   "cell_type": "markdown",
   "metadata": {},
   "source": [
    "## Bond Yield\n",
    "\n",
    "A bond's yield is the single discount rate that, when applied to all cash flows, gives a bond price equal to the market price. \n",
    "\n",
    "Suppose that the theoreticdal price fo the bond we have been considering is $98.39, is also it's market value.\n",
    "\n",
    "If y is the yield on the bond, expressed with continuous compounding, it must be true that \n",
    "\\begin{equation*}\n",
    "  3 e^{-y \\times 0.5} + 3 e^{-y \\times 1.0} + 3 e^{-y \\times 1.5} + 103 e^{-y \\times 2.0} = 98.39\n",
    "\\end{equation*}\n",
    "\n",
    "Solving for y using a method like Newton-Rahpson, we get $y= 6.76\\%$"
   ]
  },
  {
   "cell_type": "markdown",
   "metadata": {},
   "source": [
    "# Par Yield\n",
    "The par yield for a certain bond maturity is the coupon rate that causes the bond price to equal its par value. (par value is same as the principal value).\n",
    "\n",
    "Suppose that the coupon on a 2-year bond in\n",
    "our example is c per annum (or 0.5 c per 6 months). Using the zero rates in Table 4.2, the\n",
    "value of the bond is equal to its par value of 100 when\n",
    "\\begin{equation*}\n",
    "  \\frac{c}{2} e^{-0.05 \\times 0.5} + \\frac{c}{2} e^{-0.058 \\times 1.0} + \\frac{c}{2} e^{-0.064 \\times 1.5} + (100 + \\frac{c}{2}) e^{-0.068 \\times 2.0} = 100\n",
    "\\end{equation*}\n",
    "The 2-year par yield is therefore c=6.87% per annum.\n",
    "\n",
    "More generally, if d is the present value of $1 received at the maturity of the bond, A is the value of an annuity that pays one dollar on each coupon payment date, and m is the number of coupon payments per year, then the par yield c must satisfy\n",
    "\\begin{equation*}\n",
    "  100 = A \\frac{c}{m} + 100 d\n",
    "\\end{equation*}\n",
    "so that \n",
    "\\begin{equation*}\n",
    "  c = \\frac{(100 - 100d) m}{A}\n",
    "\\end{equation*}\n",
    "\n",
    "In our example: \n",
    "- $m=2$\n",
    "- $d = e^{-0.068 \\times 2} = 0.87284$\n",
    "- $A = e^{-0.05 \\times 0.5} + e^{-0.058 \\times 1.0} + e^{-0.064 \\times 1.5} + e^{-0.068 \\times 2.0} = 3.70027$\n",
    "\n",
    "The formula confirms that the par yield is $6.87\\%$ per annum."
   ]
  },
  {
   "cell_type": "markdown",
   "metadata": {},
   "source": [
    "# Determining zero rates\n",
    "\n",
    "| Bond principal ($) | Time to maturity (years) | Annual Coupon ($) | Bond Price ($) | Bond yield (%) |\n",
    "| --------| ------- |------- |------- |------- |\n",
    "| 100     | 0.25    | 0   | 99.6  | 1.6064(Q)   |\n",
    "| 100     | 0.50    | 0   | 99.0 |   2.0202(QA)  |\n",
    "| 100     | 1.00    | 0   | 97.8  |  2.2495(A)   |\n",
    "| 100     | 1.50    | 4   | 102.5  |   2.2949(SA)  |\n",
    "| 100     | 2.00    | 5   | 105.0 |  2.4238 (SA)   |"
   ]
  },
  {
   "cell_type": "code",
   "execution_count": 14,
   "metadata": {},
   "outputs": [
    {
     "name": "stdout",
     "output_type": "stream",
     "text": [
      "1st bond zero rate:  0.01603208559015547\n",
      "2nd bond zero rate:  0.020100671707003012\n",
      "3rd bond zero rate:  0.022245608947319737\n"
     ]
    }
   ],
   "source": [
    "# First 3 bonds pay no coupon, and therefore zero rates can be easily calculated\n",
    "# First Bond: 100 = 99.6 * np.exp(R * 0.25)\n",
    "def noCouponZeroRate(p, A, T):\n",
    "  \"\"\"Calculates the zero rate for a no-coupon bond\n",
    "    p: price\n",
    "    A: principal\n",
    "    T: Time to maturity (years)\n",
    "  \"\"\"\n",
    "  return (1/T) * np.log(A/p)\n",
    "  \n",
    "print(\"1st bond zero rate: \", noCouponZeroRate(99.6, 100, 0.25))\n",
    "print(\"2nd bond zero rate: \", noCouponZeroRate(99.0, 100, 0.5))\n",
    "print(\"3rd bond zero rate: \", noCouponZeroRate(97.8, 100, 1.00))"
   ]
  },
  {
   "cell_type": "markdown",
   "metadata": {},
   "source": [
    "The fourth bond last 1.5 years with cash flow:\n",
    "- 6 months: $2\n",
    "- 1 year: $2\n",
    "- 1.5 years: $102\n",
    "\n",
    "From earlier calculations:\n",
    "- Discount rate for 6 months: 2.010%\n",
    "- Discount rate for 1 year: 2.225%\n",
    "\n",
    "It follows that:\n",
    "\\begin{equation*}\n",
    "  2 e^{-0.0201 \\times 0.5} + 2 e^{-0.02225 \\times 1.0} + 102 e^{R \\times 1.5} = 98.39\n",
    "\\end{equation*}"
   ]
  },
  {
   "cell_type": "code",
   "execution_count": 1,
   "metadata": {},
   "outputs": [
    {
     "ename": "NameError",
     "evalue": "name 'np' is not defined",
     "output_type": "error",
     "traceback": [
      "\u001b[0;31m---------------------------------------------------------------------------\u001b[0m",
      "\u001b[0;31mNameError\u001b[0m                                 Traceback (most recent call last)",
      "Cell \u001b[0;32mIn[1], line 20\u001b[0m\n\u001b[1;32m     15\u001b[0m     i \u001b[38;5;241m+\u001b[39m\u001b[38;5;241m=\u001b[39m \u001b[38;5;241m1\u001b[39m\n\u001b[1;32m     17\u001b[0m   \u001b[38;5;28;01mreturn\u001b[39;00m \u001b[38;5;241m-\u001b[39mnp\u001b[38;5;241m.\u001b[39mlog(l_val\u001b[38;5;241m/\u001b[39m(\u001b[38;5;241m-\u001b[39m (A \u001b[38;5;241m+\u001b[39m coupon)))\u001b[38;5;241m/\u001b[39mT\n\u001b[1;32m     19\u001b[0m \u001b[38;5;28mprint\u001b[39m(\u001b[38;5;124m\"\u001b[39m\u001b[38;5;124m4th bond zero rate: \u001b[39m\u001b[38;5;124m\"\u001b[39m, \n\u001b[0;32m---> 20\u001b[0m         \u001b[43mwithCouponZeroRate\u001b[49m\u001b[43m(\u001b[49m\u001b[38;5;241;43m102.5\u001b[39;49m\u001b[43m,\u001b[49m\u001b[43m \u001b[49m\u001b[38;5;241;43m100\u001b[39;49m\u001b[43m,\u001b[49m\u001b[43m \u001b[49m\u001b[38;5;241;43m1.5\u001b[39;49m\u001b[43m,\u001b[49m\u001b[43m \u001b[49m\u001b[38;5;241;43m4\u001b[39;49m\u001b[43m,\u001b[49m\u001b[43m \u001b[49m\u001b[38;5;241;43m0.5\u001b[39;49m\u001b[43m,\u001b[49m\u001b[43m \u001b[49m\u001b[43m[\u001b[49m\u001b[38;5;241;43m0.020100\u001b[39;49m\u001b[43m,\u001b[49m\u001b[43m \u001b[49m\u001b[38;5;241;43m0.02224\u001b[39;49m\u001b[43m]\u001b[49m\u001b[43m)\u001b[49m)\n\u001b[1;32m     22\u001b[0m \u001b[38;5;28mprint\u001b[39m(\u001b[38;5;124m\"\u001b[39m\u001b[38;5;124m5th bond zero rate: \u001b[39m\u001b[38;5;124m\"\u001b[39m, \n\u001b[1;32m     23\u001b[0m         withCouponZeroRate(\u001b[38;5;241m105.0\u001b[39m, \u001b[38;5;241m100\u001b[39m, \u001b[38;5;241m2.0\u001b[39m, \u001b[38;5;241m5\u001b[39m, \u001b[38;5;241m0.5\u001b[39m, [\u001b[38;5;241m0.020100\u001b[39m, \u001b[38;5;241m0.02224\u001b[39m, \u001b[38;5;241m0.0228445\u001b[39m]))\n",
      "Cell \u001b[0;32mIn[1], line 13\u001b[0m, in \u001b[0;36mwithCouponZeroRate\u001b[0;34m(p, A, T, annual_coupon, pay_period, discount_rates)\u001b[0m\n\u001b[1;32m     11\u001b[0m coupon \u001b[38;5;241m=\u001b[39m annual_coupon \u001b[38;5;241m*\u001b[39m pay_period\n\u001b[1;32m     12\u001b[0m i \u001b[38;5;241m=\u001b[39m \u001b[38;5;241m0\u001b[39m\n\u001b[0;32m---> 13\u001b[0m \u001b[38;5;28;01mfor\u001b[39;00m t \u001b[38;5;129;01min\u001b[39;00m \u001b[43mnp\u001b[49m\u001b[38;5;241m.\u001b[39marange(pay_period, T, pay_period):\n\u001b[1;32m     14\u001b[0m   l_val \u001b[38;5;241m+\u001b[39m\u001b[38;5;241m=\u001b[39m coupon \u001b[38;5;241m*\u001b[39m np\u001b[38;5;241m.\u001b[39mexp(\u001b[38;5;241m-\u001b[39mdiscount_rates[i] \u001b[38;5;241m*\u001b[39m t)\n\u001b[1;32m     15\u001b[0m   i \u001b[38;5;241m+\u001b[39m\u001b[38;5;241m=\u001b[39m \u001b[38;5;241m1\u001b[39m\n",
      "\u001b[0;31mNameError\u001b[0m: name 'np' is not defined"
     ]
    }
   ],
   "source": [
    "def withCouponZeroRate(p, A, T, annual_coupon, pay_period, discount_rates):\n",
    "  \"\"\"Calculates the zero rate for a bond that pays coupons\n",
    "    p: bond price\n",
    "    A: bond principal\n",
    "    T: Time to maturity (years)\n",
    "    annual_coupon: [$] Annual coupon\n",
    "    pay_period: [years] coupon payment frequency\n",
    "    discount_rates: Array of discount rates\n",
    "  \"\"\"\n",
    "  l_val = -p \n",
    "  coupon = annual_coupon * pay_period\n",
    "  i = 0\n",
    "  for t in np.arange(pay_period, T, pay_period):\n",
    "    l_val += coupon * np.exp(-discount_rates[i] * t)\n",
    "    i += 1\n",
    "\n",
    "  return -np.log(l_val/(- (A + coupon)))/T\n",
    "\n",
    "print(\"4th bond zero rate: \", \n",
    "        withCouponZeroRate(102.5, 100, 1.5, 4, 0.5, [0.020100, 0.02224]))\n",
    "\n",
    "print(\"5th bond zero rate: \", \n",
    "        withCouponZeroRate(105.0, 100, 2.0, 5, 0.5, [0.020100, 0.02224, 0.0228445]))"
   ]
  },
  {
   "cell_type": "markdown",
   "metadata": {},
   "source": [
    "A chart showing the zero rate as a function of maturity is known as the zero curve. \n",
    "Some assumptions:\n",
    "1. zero curve is linear between the points determined using the bootstrap method.\n",
    "2. zero curve is horizontal prior to the first point and horizontal beyond the last point\n",
    "\n",
    "Usually we do not usually have bonds with maturities equal to exactly 1.5 years, 2 years, 2.5 years, and so on. One approach is to interpolate between data points. We can use linear piecewise curve or fit a spline function"
   ]
  },
  {
   "cell_type": "markdown",
   "metadata": {},
   "source": [
    "# Forward rates\n",
    "Forward interest rates are the rates of interest implied by current zero rates for periods of time in the future. Rates are assumed to be continuously compounded.\n",
    "\n",
    "Illustration:\n",
    "1. 3% per annum rate for 1 year means that, in return for an investment of $100 today, an amount $100 e^{0.03 \\times 1} = $103.05$ is received in 1 year\n",
    "1. 4% per annum rate for 2 years means that, in return for an investment of $100 today, an amount $100 e^{0.04 \\times 2} = $108.33$ is received in 2 years\n",
    "2. The forward interest rate in Table 4.5 for year 2 is 5% per annum. THis is the rate of interest that is implied by the zero rates for the period of time BETWEEN the end of the first year and end of the second year.\n",
    "\n",
    "\\begin{equation*}\n",
    "  100 e^{0.03 \\times 1} e^{0.05 \\times 1} = 100 e^{0.04 \\times 2} = \\$108.33\n",
    "\\end{equation*}\n",
    "\n",
    "| Year (n) | Zero rate for an n-year investment (% per annum)   | Forward rate for nth year (% per annum) |\n",
    "| ----- | -------- | ------- |\n",
    "| 1 | 3.0  |     |\n",
    "| 2 | 4.0  | 5.0    |\n",
    "| 3 | 4.6 |  5.8    |\n",
    "| 4 | 5.0    | 6.2    |\n",
    "| 5 | 5.3    | 6.5    |"
   ]
  },
  {
   "cell_type": "markdown",
   "metadata": {},
   "source": [
    "In general:\n",
    "- $R_1$: zero rate for maturity $T_1$\n",
    "- $R_2$: zero rate for maturity $T_2$\n",
    "- $R_F$: Forward interest rate for the period of time between $T_1$ and $T_2$, then\n",
    "\n",
    "\\begin{equation*}\n",
    "\\begin{split}\n",
    "  R_F &= \\frac{R_2 T_2 - R_1 T_1}{T_2 - T_1} \\\\\n",
    "  R_F &= R_2 + (R_2 - R_1) \\frac{T_1}{T_2 - T_1} \n",
    "\\end{split}\n",
    "\\end{equation*}\n",
    "\n",
    "\n",
    "We can also take the limit as $T_2$ approaches $T_1$ and letting the common value of the two be T, then we obtain:\n",
    "\\begin{equation*}\n",
    "\\begin{split}\n",
    "  R_F &= R + T \\frac{\\partial R}{\\partial T}\n",
    "\\end{split}\n",
    "\\end{equation*}\n",
    "where R is the zero rate for a maturity of T.\n",
    "\n",
    "The value of $R_F$ obtained is known as the instantaneous forward rate.\n",
    "\n",
    "\n",
    "If a large financial institution can borrow or lend at the rates in Table 4.5, it can lock in\n",
    "the forward rates. For instance:\n",
    "- Borrow $100 at 3% for 1 year. Cash outflow of $100 e^{0.03 \\times 1} = \\$103.05$ at end of year 1\n",
    "- Invest the money at 4% for 2 years. Cash inflow of $100 e^{0.04 \\times 2} = \\$108.33$ at end of year 2.\n",
    "- A return equal to forward rate (%5) is then earned on $103.05 during the second year. "
   ]
  },
  {
   "cell_type": "markdown",
   "metadata": {},
   "source": []
  }
 ],
 "metadata": {
  "kernelspec": {
   "display_name": "Python 3",
   "language": "python",
   "name": "python3"
  },
  "language_info": {
   "codemirror_mode": {
    "name": "ipython",
    "version": 3
   },
   "file_extension": ".py",
   "mimetype": "text/x-python",
   "name": "python",
   "nbconvert_exporter": "python",
   "pygments_lexer": "ipython3",
   "version": "3.8.10"
  }
 },
 "nbformat": 4,
 "nbformat_minor": 2
}
