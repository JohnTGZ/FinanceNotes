{
 "cells": [
  {
   "cell_type": "markdown",
   "metadata": {},
   "source": [
    "# Chapter 4: Interest Rates\n",
    "\n",
    "# 4.1 Type of Rates\n",
    "\n",
    "One important factor influencing interest rates is credit risk, the higher it is, the higher the interest rate that is promised by the borrower.\n",
    "The extra amount added to a risk-free investment to allow for credit risk is called **credit spread**.\n",
    "\n",
    "Interest rates are often expressed in basis points. One basis point is 0.01% per annum.\n",
    "\n",
    "## Treasury Rates\n",
    "Treasury rates are rates that an investor earns on Treasury bills and Treasury bonds. These are the instruments used by a government to borrow in its own currency\n",
    "\n",
    "## Overnight Rates\n",
    "\n",
    "Banks are required to maintain a certain amount of cash, known as a reserve, with the central bank. The reserve requirement for a bank at any time depends on its outstanding\n",
    "assets and liabilities. At the end of a day, some financial institutions typically have surplus funds in their accounts with the central bank while others have requirements for funds. This leads to borrowing and lending overnight\n",
    "\n",
    "**Overnight rate** is called the federal funds rate. \n",
    "**effective federal funds rate**: weighted average of the rates in brokered transactions (with weights being determined by the size of the transaction)\n",
    "\n",
    "This overnight rate is monitored by the Federal Reserve, which may intervene with its own transactions in an attempt to raise or lower it.\n",
    "\n",
    "\n",
    "## Repo rates\n",
    "Repo rates are secured borrowing rates.\n",
    "In a repo (or repurchase agreement), a financial institution that owns securities agrees to sell the securities for a certain price and buy them back at a later time for a slightly higher price.\n",
    "\n",
    "The **secured overnight financing rate (SOFR)** is an important volume-weighted median\n",
    "average of the rates on overnight repo transactions in the United States."
   ]
  },
  {
   "cell_type": "markdown",
   "metadata": {},
   "source": [
    "# 4.2 Reference Rates\n",
    "\n",
    "## LIBOR\n",
    "\n",
    "## "
   ]
  },
  {
   "cell_type": "markdown",
   "metadata": {},
   "source": [
    "# 4.3 The Risk-Free Rate\n"
   ]
  },
  {
   "cell_type": "markdown",
   "metadata": {},
   "source": [
    "# 4.4 Measuring Interest Rates\n"
   ]
  },
  {
   "cell_type": "markdown",
   "metadata": {},
   "source": [
    "# 4.5 Zero Rates\n"
   ]
  },
  {
   "cell_type": "markdown",
   "metadata": {},
   "source": [
    "# 4.6 Bond Pricing\n"
   ]
  }
 ],
 "metadata": {
  "language_info": {
   "name": "python"
  }
 },
 "nbformat": 4,
 "nbformat_minor": 2
}
