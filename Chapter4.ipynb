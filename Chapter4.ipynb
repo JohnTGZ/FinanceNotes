{
 "cells": [
  {
   "cell_type": "markdown",
   "metadata": {},
   "source": [
    "# Chapter 4: Interest Rates\n",
    "\n",
    "# 4.1 Type of Rates\n",
    "\n",
    "One important factor influencing interest rates is credit risk, the higher it is, the higher the interest rate that is promised by the borrower.\n",
    "The extra amount added to a risk-free investment to allow for credit risk is called **credit spread**.\n",
    "\n",
    "Interest rates are often expressed in basis points. One basis point is 0.01% per annum.\n",
    "\n",
    "## Treasury Rates\n",
    "Treasury rates are rates that an investor earns on Treasury bills and Treasury bonds. These are the instruments used by a government to borrow in its own currency\n",
    "\n",
    "## Overnight Rates\n",
    "\n",
    "Banks are required to maintain a certain amount of cash, known as a reserve, with the central bank. The reserve requirement for a bank at any time depends on its outstanding\n",
    "assets and liabilities. At the end of a day, some financial institutions typically have surplus funds in their accounts with the central bank while others have requirements for funds. This leads to borrowing and lending overnight\n",
    "\n",
    "**Overnight rate** is called the federal funds rate. \n",
    "**effective federal funds rate**: weighted average of the rates in brokered transactions (with weights being determined by the size of the transaction)\n",
    "\n",
    "This overnight rate is monitored by the Federal Reserve, which may intervene with its own transactions in an attempt to raise or lower it.\n",
    "\n",
    "\n",
    "## Repo rates\n",
    "Repo rates are secured borrowing rates.\n",
    "In a repo (or repurchase agreement), a financial institution that owns securities agrees to sell the securities for a certain price and buy them back at a later time for a slightly higher price.\n",
    "\n",
    "The **secured overnight financing rate (SOFR)** is an important volume-weighted median\n",
    "average of the rates on overnight repo transactions in the United States."
   ]
  },
  {
   "cell_type": "markdown",
   "metadata": {},
   "source": [
    "# 4.2 Reference Rates\n",
    "\n",
    "## LIBOR\n",
    "\n",
    "A problem with LIBOR is that there is not enough borrowing between banks for a\n",
    "bank’s estimates to be determined by market transactions. As a result, LIBOR sub-­\n",
    "missions by banks involved a certain amount of judgment and could be subject to\n",
    "manipulation. Bank regulators are uncomfortable with this and have developed plans\n",
    "to phase out the use of LIBOR.\n",
    "\n",
    "## The new Reference Rates\n",
    "The plan is to base reference rates on the overnight rates.\n",
    "1. USA: SOFR\n",
    "2. U.K.: SONIA\n",
    "3. Eurozone: ESTER\n",
    "4. Switzerland: SARON\n",
    "5. Japan: TONAR\n",
    "\n",
    "Longer rates such as three-month rates, six-month rates, or one-year rates can be determined from overnight rates by compounding them daily.\n",
    "\n",
    "Suppose that (annualized) SOFR overnight reate on i-th business day of a period is r_i (1 <= i <= n) and the rate applies to d_i days. \n",
    "\n",
    "The annualized interest rate for the period is:\n",
    "\\begin{equation*}\n",
    "  [(1 + r_1 \\hat{d}_1)(1 + r_2 \\hat{d}_2) \\cdot (1 + r_n \\hat{d}_n) - 1] \\frac{360}{D}\n",
    "\\end{equation*}\n",
    "\n",
    "On most days, $d_i = 1$, but weekends and holidays lead to the overnight rates being applied to more than one day.\n",
    "\n",
    "The new reference rates are regarded as risk-free because they are derived from one-day loans to creditworthy financial institutions. LIBOR, by contrast, incorporates a credit spread. LIBOR rates are forward looking. They are determined at the beginning of the period to which they will apply. The new reference rates are backward looking. The rate applicable to a particular period is not known until the end of the period when all the relevant overnight rates have been observed."
   ]
  },
  {
   "cell_type": "code",
   "execution_count": null,
   "metadata": {},
   "outputs": [],
   "source": [
    "# r_i = []\n",
    "# d_i = []\n",
    "\n",
    "# annualized_int_rate = np.product()"
   ]
  },
  {
   "cell_type": "markdown",
   "metadata": {},
   "source": [
    "## Reference Rates and Credit Risk\n",
    "One problem faced by banks is that credit spreads in the economy increase in stressed market conditions. For example, the spread between three-month LIBOR and a three-month rate based on overnight rates is usually about 10 basis points (0.1%), but it can be much higher in stressed market conditions. For example, it spiked to an all-time\n",
    "high of 364 basis points (3.64%) in the United States in October 2008 during the financial crisis. If a bank offers a loan at a reference rate plus x%, where x is a constant,\n",
    "it would like the rate to reflect ups and downs in average credit spreads. LIBOR, when used as a reference rate, did this, but the new reference rates (because they are\n",
    "essentially risk-free) do not. This has led banks to ask for a way of creating risky reference rates by adding a credit spread to the new reference rates. There have been a\n",
    "number of proposals and the new risk-free reference rates may be augmented by credit spread measures in the future."
   ]
  },
  {
   "cell_type": "markdown",
   "metadata": {},
   "source": [
    "# 4.3 The Risk-Free Rate\n",
    "\n",
    "The usual approach to valuing derivatives involves setting up a riskless portfolio and arguing that the return on the portfolio should be the risk-free rate. The\n",
    "risk-free rate therefore plays a central role in derivatives pricing.\n",
    "\n",
    "Derivatives traders do not use rates on T-bills nad T-bonds as risk free rates. This is because there are tax and regulatory factors that lead to Treasury rates being artificially low. For example:\n",
    "1. Banks are not required to keep capital for investments in a Treasury instruments, but they are required to keep capital for other very low risk instruments.\n",
    "2. In the United States, Treasury instruments are given favorable tax treatment compared with other very low risk instruments because the interest earned by investors is not taxed at the state level."
   ]
  },
  {
   "cell_type": "markdown",
   "metadata": {},
   "source": [
    "# 4.4 Measuring Interest Rates\n",
    "Compounding frequency affects the value of the total interest, for an example of a principal of $100 and interest rate of 10% at the end of 1 year:\n",
    "- Annually (m=1): 110.00\n",
    "  Semiannually (m=2): 110.25\n",
    "- Quaterly (m=4): 110.38\n",
    "- Monthly (m=12): 110.47\n",
    "- Weekly (m=52): 110.51\n",
    "- Daily (m=365): 110.52\n",
    "\n",
    "Terminal value of investement with $R$ interest rate, principal amount $A$, and compounded $m$ times per annum:\n",
    "\\begin{equation*}\n",
    "  A(1 + \\frac{R}{m})^{mn}\n",
    "\\end{equation*}\n",
    "\n",
    "When m = 1, the rate is sometimes referred to as the equivalent annual interest rate\n",
    "\n",
    "## Continuous Compounding\n",
    "\n",
    "The limit as the compounding frequency, m, tends to infinity is known as continuous compounding"
   ]
  },
  {
   "cell_type": "markdown",
   "metadata": {},
   "source": [
    "# 4.5 Zero Rates\n"
   ]
  },
  {
   "cell_type": "markdown",
   "metadata": {},
   "source": [
    "# 4.6 Bond Pricing\n"
   ]
  }
 ],
 "metadata": {
  "kernelspec": {
   "display_name": "Python 3",
   "language": "python",
   "name": "python3"
  },
  "language_info": {
   "name": "python",
   "version": "3.8.10"
  }
 },
 "nbformat": 4,
 "nbformat_minor": 2
}
