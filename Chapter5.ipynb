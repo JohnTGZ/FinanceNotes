{
 "cells": [
  {
   "cell_type": "markdown",
   "metadata": {},
   "source": [
    "# Chapter 5 Determination of Forward and Futures Prices"
   ]
  },
  {
   "cell_type": "markdown",
   "metadata": {},
   "source": [
    "In this chapter:\n",
    "1. Examine how forward prices and futures prices are related to the spot price of the underlying asset. \n",
    "   1. Forward prices easier to analyze (no daily settlement)\n",
    "   2. Forward and futures price of an asset usully very close for similar maturity\n",
    "2. Derive some important general results on the relationship between forward (or futures) prices and spot prices.\n",
    "3. Examine realtionship between futures price and spot prices for contracts on stock, indices, foreign exchange, and commodities."
   ]
  },
  {
   "cell_type": "markdown",
   "metadata": {},
   "source": [
    "# 5.1 INVESTMENT ASSETS vs. CONSUMPTION ASSETS\n",
    "\n",
    "**Investment Asset**:\n",
    "- asset that is held solely for investment purposes by at least some traders.\n",
    "- Eg: stock and bonds, gold and silver\n",
    "- Do not have to be held exclusively for investment (silver has industrial uses)\n",
    "- However, need to satisfy the requirement that they are held by **some** traders solely for investment.\n",
    "\n",
    "**Consumption Asset**:\n",
    "- Asset held primarily for consumption. Not normally held for investment.\n",
    "- Eg: copper, crude oil, corn and pork bellies."
   ]
  },
  {
   "cell_type": "markdown",
   "metadata": {},
   "source": [
    "# 5.2 SHORT SELLING\n",
    "\n",
    "**Short Selling / \"shorting\"**:\n",
    "- Selling an asset that is not owned.\n",
    "- possible for some—but not all—investment assets.\n",
    "\n",
    "Examples:\n",
    "- Short 500 shares in April when the price per share is $120 and close out the position by buying them back in July when the price per share is $100.\n",
    "- Suppose dividend of $1 per share is paid in May. \n",
    "- Investor receives 500 x 120 = 60,000 in April when short is initiated.\n",
    "- Dividend leads to a payment by the investor of 500 x $1 = 500 in May\n",
    "- Investor pays 500 x 100 = 50,000 for shares when position is closed out in JUly.\n",
    "- Net gain: 60,000 - 500 - 50,000 = 9,500\n",
    "\n",
    "Investor required to maintain a margin account with broker.\n",
    "\n",
    "\n",
    "From time to time regulations are changed on short selling:\n",
    "- “alternative uptick” rule in February 2010.\n",
    "  - Under this rule, when the price of a stock has decreased by more than 10% in one day, there are restrictions on short selling for that day and the next. \n",
    "  - These restrictions are that the stock can be shorted only at a price that is higher than the best current bid price."
   ]
  },
  {
   "cell_type": "markdown",
   "metadata": {},
   "source": [
    "# 5.3 ASSUMPTIONS AND NOTATION\n",
    "\n",
    "Assume that the following are all true for some market participants:\n",
    "1. Subject to no transaction costs when they trade\n",
    "2. Subject to same tax rate on all net trading profits\n",
    "3. Borrow money at same risk-free rate of interest as they can lend money\n",
    "4. Take advantage of arbitrage opportunities as they occur\n",
    "\n",
    "Notation:\n",
    "- $T$: Time until delivery date in a forward or futures contract (in years)\n",
    "- $S_0$: Price of the asset underlying the forward or futures contract today\n",
    "- $F_0$: Forward or futures price today\n",
    "- $r$: Zero-coupon risk-free rate of interest per annum, expressed with continuous compounding, for an investment maturing at the delivery date (i.e., in T years).\n",
    "  - No credit risk, borrowed money is certain to be repaid\n"
   ]
  },
  {
   "cell_type": "markdown",
   "metadata": {},
   "source": [
    "# 5.4 FORWARD PRICE FOR AN INVESTMENT ASSET\n",
    "\n",
    "Easiest forward contract:\n",
    "1. written on an investment asset that provides the holder with no income and for which there are no storage costs.\n",
    "2. Examples: Non divident paying stocks and zero-coupon bonds\n",
    "\n",
    "Consider long forward contract to purchase a non-dividend paying stock in 3 months:\n",
    "- Assume current stock price is $40\n",
    "- 3 month risk-free interest rate is 5% per annum\n",
    "\n",
    "Suppose that forward price is relatively high at 43 ($F_0 > S_0 e^{r T}$):\n",
    "1. Arbitrageur borrow $40 at risk-free interest rate of 5% per annum\n",
    "2. Buy one share\n",
    "3. Short a forward contract to sell one share in 3 months\n",
    "   - Me: Sell stock at $43 in 3 months time\n",
    "   - Other: Buy stock at $43 in 3 months time\n",
    "- Sum of money to pay off loan: $40e^{0.05 \\times 3/12}$ = 40.50\n",
    "- Profit = 43 - 40.50 = 2.5 at end of 3 months\n",
    "\n",
    "Suppose that forward price is relatively low at 39 ($F_0 < S_0 e^{r T}$):\n",
    "1. Short one share\n",
    "   1. Sell a share at $40 now (Buy back later with forward contract)\n",
    "2. Invest proceeds of the short sale at 5% per annum for 3 months\n",
    "3. Take a long position in a 3 month forward contract\n",
    "   1. Buy stock at $39\n",
    "\n",
    "- Profit = $40e^{0.05 \\times 3/12}$ - 39 = 1.5\n"
   ]
  },
  {
   "cell_type": "markdown",
   "metadata": {},
   "source": [
    "# A Generalization\n",
    "\n",
    "Consider a forward contract on an investment asset with price $S_0$ that provides no income. Relationship between $F_0$ and $S_0$ is:\n",
    "\\begin{equation*}\n",
    "  F_0 = S_0 e^{r T}\n",
    "\\tag{5.1}\n",
    "\\end{equation*}\n",
    "\n",
    "If $F_0 > S_0 e^{r T}$:\n",
    "  - Arbitrageurs can buy the asset and short forward contracts on the asset \n",
    "\n",
    "If $F_0 < S_0 e^{r T}$:\n",
    "  - Arbitrageurs can short the asset and enter into long forward contracts on the asset \n",
    "\n",
    "In our initial example, $S_0 = 40,\\ r=0.05,\\ T = 0.25$, so that our equation (5.1) gives:\n",
    "\\begin{equation*}\n",
    "  F_0 = 40e^{0.05 \\times 0.25} = 40.50\n",
    "\\end{equation*}"
   ]
  },
  {
   "cell_type": "markdown",
   "metadata": {},
   "source": [
    "## Example 5.1\n",
    "Consider a 4-month forward contract to buy a zero-coupon bond that will mature 1 year from today.\n",
    "- Current price of bond is $930\n",
    "- Assume that the 4-month risk-free rate of interest is 6% per annum.\n",
    "- Zero-coupon bonds provide no income, so we use equation (5.1)\n",
    "  - T = 4/12\n",
    "  - r = 0.06\n",
    "  - S_0 = 930\n",
    "- Forward price: $F_0 = 930 e^{0.06 \\times 4/12} = \\$948.79$"
   ]
  },
  {
   "cell_type": "markdown",
   "metadata": {},
   "source": [
    "# 5.5 KNOWN INCOME\n",
    "Consider a forward contract to purchase a coupon-bearing bond whose current price is $900.\n",
    "- Suppose forward contract matures in 9 months. \n",
    "- Suppose that a coupon payment of $40 is expected on the bond after 4 months\n",
    "- Assume that 4-month and 9-month risk-free interest rates are 3% and 4% per annum.\n",
    "\n",
    "**Suppose first that forward price is relatively high at $F_0 = $910$:**\n",
    "- Arbitrageur borrow $900 to buy the bond \n",
    "- Enter into the forward contract to sell the bond for 910\n",
    "- Coupon payment has a present value of $40e^{-0.03 \\times 4/12} = 39.60$\n",
    "- OF the 900 borrowed\n",
    "  - 39.6 is therefore borrowed at 3% per annum for 4 months so it can be repaid with the coupon payment.\n",
    "  - Remaining 860.40 is borrowed at 4% per annum for 9 months.\n",
    "  - Amount owed at end of 9-month period is $860.40 e^{0.04 \\times 0.75} = 886.60$\n",
    "- Sum of 910 is received for the bond under the terms of the forward contract\n",
    "- Net profit = 910 - 886.6 = 23.40\n",
    "\n",
    "**Suppose next that forward price is relatively low at $F_0 = $870$:**\n",
    "- Investor short the bond\n",
    "- Enter into forward contract to buy the bond for 870\n",
    "- Of the 900 profit\n",
    "  - 39.6 used to pay coupon on bond\n",
    "  - Remaining 860.4 invested for 9 months at 4% interest per annum.\n",
    "  - Amount at end of 9-month period is $860.40 e^{0.04 \\times 0.75} = 886.60$\n",
    "- Under terms of contract, pay 870 to buy the bond and short position is closed out\n",
    "- Net profit = 886.60 - 870 = 16.6\n",
    "\n",
    "It follows that if there are no arbitrage opportunities then the forward price must be $886.60."
   ]
  },
  {
   "cell_type": "markdown",
   "metadata": {},
   "source": [
    "# A Generalization\n",
    "\n",
    "\\begin{equation*}\n",
    "  F_0 = (S_0 - I) e^{r T}\n",
    "\\tag{5.2}\n",
    "\\end{equation*}\n",
    "\n",
    "\n",
    "Where I is coupon payment."
   ]
  },
  {
   "cell_type": "markdown",
   "metadata": {},
   "source": []
  }
 ],
 "metadata": {
  "language_info": {
   "name": "python"
  }
 },
 "nbformat": 4,
 "nbformat_minor": 2
}
