{
 "cells": [
  {
   "cell_type": "markdown",
   "metadata": {},
   "source": [
    "# Chapter 5 Determination of Forward and Futures Prices"
   ]
  },
  {
   "cell_type": "markdown",
   "metadata": {},
   "source": [
    "In this chapter:\n",
    "1. Examine how forward prices and futures prices are related to the spot price of the underlying asset. \n",
    "   1. Forward prices easier to analyze (no daily settlement)\n",
    "   2. Forward and futures price of an asset usully very close for similar maturity\n",
    "2. Derive some important general results on the relationship between forward (or futures) prices and spot prices.\n",
    "3. Examine realtionship between futures price and spot prices for contracts on stock, indices, foreign exchange, and commodities."
   ]
  },
  {
   "cell_type": "markdown",
   "metadata": {},
   "source": [
    "# 5.1 INVESTMENT ASSETS vs. CONSUMPTION ASSETS\n",
    "\n",
    "**Investment Asset**:\n",
    "- asset that is held solely for investment purposes by at least some traders.\n",
    "- Eg: stock and bonds, gold and silver\n",
    "- Do not have to be held exclusively for investment (silver has industrial uses)\n",
    "- However, need to satisfy the requirement that they are held by **some** traders solely for investment.\n",
    "\n",
    "**Consumption Asset**:\n",
    "- Asset held primarily for consumption. Not normally held for investment.\n",
    "- Eg: copper, crude oil, corn and pork bellies."
   ]
  },
  {
   "cell_type": "markdown",
   "metadata": {},
   "source": [
    "# 5.2 SHORT SELLING\n",
    "\n",
    "**Short Selling / \"shorting\"**:\n",
    "- Selling an asset that is not owned.\n",
    "- possible for some—but not all—investment assets.\n",
    "\n",
    "Examples:\n",
    "- Short 500 shares in April when the price per share is $120 and close out the position by buying them back in July when the price per share is $100.\n",
    "- Suppose dividend of $1 per share is paid in May. \n",
    "- Investor receives 500 x 120 = 60,000 in April when short is initiated.\n",
    "- Dividend leads to a payment by the investor of 500 x $1 = 500 in May\n",
    "- Investor pays 500 x 100 = 50,000 for shares when position is closed out in JUly.\n",
    "- Net gain: 60,000 - 500 - 50,000 = 9,500\n",
    "\n",
    "Investor required to maintain a margin account with broker.\n",
    "\n",
    "\n",
    "From time to time regulations are changed on short selling:\n",
    "- “alternative uptick” rule in February 2010.\n",
    "  - Under this rule, when the price of a stock has decreased by more than 10% in one day, there are restrictions on short selling for that day and the next. \n",
    "  - These restrictions are that the stock can be shorted only at a price that is higher than the best current bid price."
   ]
  },
  {
   "cell_type": "markdown",
   "metadata": {},
   "source": [
    "# 5.3 ASSUMPTIONS AND NOTATION\n",
    "\n",
    "Assume that the following are all true for some market participants:\n",
    "1. Subject to no transaction costs when they trade\n",
    "2. Subject to same tax rate on all net trading profits\n",
    "3. Borrow money at same risk-free rate of interest as they can lend money\n",
    "4. Take advantage of arbitrage opportunities as they occur\n",
    "\n",
    "Notation:\n",
    "- $T$: Time until delivery date in a forward or futures contract (in years)\n",
    "- $S_0$: Price of the asset underlying the forward or futures contract today\n",
    "- $F_0$: Forward or futures price today\n",
    "- $r$: Zero-coupon risk-free rate of interest per annum, expressed with continuous compounding, for an investment maturing at the delivery date (i.e., in T years).\n",
    "  - No credit risk, borrowed money is certain to be repaid\n"
   ]
  },
  {
   "cell_type": "markdown",
   "metadata": {},
   "source": [
    "# 5.4 FORWARD PRICE FOR AN INVESTMENT ASSET\n",
    "\n",
    "Easiest forward contract:\n",
    "1. written on an investment asset that provides the holder with no income and for which there are no storage costs."
   ]
  }
 ],
 "metadata": {
  "language_info": {
   "name": "python"
  }
 },
 "nbformat": 4,
 "nbformat_minor": 2
}
