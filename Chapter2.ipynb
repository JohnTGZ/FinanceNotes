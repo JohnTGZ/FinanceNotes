{
 "cells": [
  {
   "cell_type": "markdown",
   "metadata": {},
   "source": [
    "# Chapter 2: Futures Markets and Central Counterparties"
   ]
  },
  {
   "cell_type": "markdown",
   "metadata": {},
   "source": [
    "# Futures\n",
    "\n",
    "**Closing out a position**: Entering into opposite trade to the original one. e.g. You take a short to close out the long position.\n",
    "\n",
    "**Specification of contract:**\n",
    "1. Asset\n",
    "2. Contract size (exactly how much of the asset will be delivered under one contract\n",
    "3. Where delivery can be made\n",
    "4. When delivery can be made\n",
    "5. Sometimes alternatives are specified for the grade of the asset that will be delivered or for the delivery locations\n",
    "\n",
    "**Price limit and position limits**\n",
    "1. limit down: price moves fown from prev day's close by an amount equal to daily price limit\n",
    "\n",
    "# Margin accounts\n",
    "\n",
    "**Initial margin**: amount that must be deposited at the time the contract is entered into\n",
    "**Daily settlement**: At end of each trading day, the margin account is adjusted to reflect the trader's gain or loss.\n",
    "**Maintenance margin**: If balance in margin account falls below the maintenance margin, the trader receives a margin call and is expected to top up the margin account to the intiial margin level within a short period of time. Otherwise, the broker will close  out the position.\n",
    "\n",
    "**Trading volume**: Number of contracts traded in a day\n",
    "**Open interest**: number of contracts outstanding i.e. num of long positions or equivalently, the number of short positions.\n",
    "\n",
    "# Delivery\n",
    "\n",
    "Long position must accepet delivery notices. For commodities, taking delivery usually means accepting a warehouse receipt in return for immediate payment. The party taking delivery is then responsible for all warehousing costs.\n",
    "\n",
    "3 Critical days for a contract:\n",
    "1. First notice day\n",
    "   1. To avoid the risk of having to take delivery, a trader with a long position should close out his/her contracts prior to the first notice day.\n",
    "2. Last notice day \n",
    "3. Last trading day.\n",
    "\n",
    "\n"
   ]
  },
  {
   "cell_type": "code",
   "execution_count": null,
   "metadata": {},
   "outputs": [],
   "source": []
  }
 ],
 "metadata": {
  "language_info": {
   "name": "python"
  }
 },
 "nbformat": 4,
 "nbformat_minor": 2
}
