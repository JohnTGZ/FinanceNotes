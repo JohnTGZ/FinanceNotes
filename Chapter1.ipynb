{
 "cells": [
  {
   "cell_type": "markdown",
   "metadata": {},
   "source": [
    "# Chapter 1: Introduction"
   ]
  },
  {
   "cell_type": "markdown",
   "metadata": {},
   "source": [
    "# Definitions\n",
    "\n",
    "**Forward**: Agreement to buy or sell an asset at a certain future time for a certain price.\n",
    "**Futures**: Agreement between 2 parties to buy or sell an asset at a certain time in the future for a certain price\n",
    "\n",
    "## Options\n",
    "**Call option**: right to buy underlying asset by a certain date for a certain price\n",
    "**Put option**: right to sell the underlying asset by a certain date for a certain price\n",
    "\n",
    "**American options**: can be exercised at any time up to the expiration date.\n",
    "**European options**: can be exercised only on the expiration date itself.\n",
    "\n",
    "# Types of traders\n",
    "\n",
    "**Hedgers**: Use derivatives to reduce the risk they face from potential market movements in a market variable\n",
    "**Arbitrageurs**: Take offsetting positions in 2 or more instruments to lock in a profit\n",
    "**Speculators**: Use options to bet on the future direction of a market variable. \n"
   ]
  }
 ],
 "metadata": {
  "language_info": {
   "name": "python"
  }
 },
 "nbformat": 4,
 "nbformat_minor": 2
}
