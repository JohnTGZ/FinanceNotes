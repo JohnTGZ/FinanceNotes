{
 "cells": [
  {
   "cell_type": "markdown",
   "metadata": {},
   "source": [
    "# Chapter 3: Hedging Strategies using Futures"
   ]
  },
  {
   "cell_type": "markdown",
   "metadata": {},
   "source": [
    "# 1. Basic principles\n",
    "When an individual or company chooses to use futures markets to hedge a risk, the objective is often to take a position that neutralizes the risk as far as possible.\n",
    "\n",
    "## Short Hedges\n",
    "A short hedge is appropriate when the hedger already owns an asset and expects to sell it at some time in the future. \n",
    "- If the spot price of the underlying asset decreases, it is offset by a gain in the short futures position.  \n",
    "\n",
    "## Long Hedges\n",
    "A long hedge is appropriate when a company knows it will have to purchase a certain asset in the future and wants to lock in a price now.\n",
    "- If the spot price of the underlying asset increases, it is offset by a gain in the long futures position.  \n",
    "\n",
    "# 2. Arguments for and against Hedging\n",
    "\n",
    "## Hedging and Shareholders \n",
    "\n",
    "## Hedging and Competitors\n",
    "If hedging is not the norm in a certain industry, it may not make sense for one particular company to choose to be different from all others.\n",
    "\n",
    "## Hedging can lead to a worse outcome\n",
    "\n",
    "\n"
   ]
  },
  {
   "cell_type": "markdown",
   "metadata": {},
   "source": [
    "# 3.3 Basis risk\n",
    "\n",
    "In practice, hedging is not as straightforward:\n",
    "1. Asset whose price is to be hedged may not be exactly the same as the asset underlying the futures contract\n",
    "2. There may be uncertainty as to the exact date when the asset will be bought or sold.\n",
    "3. The hedge may require the futures contract to be closed out before its delivery month\n",
    "\n",
    "## The Basis\n",
    "\n",
    "**Basis** = Spot price of asset to be hedged - Futures price of contract used\n",
    "If asset to be hedged is same as asset underlying futures contract, then basis should be zero approaching contract expiration.\n",
    "\n",
    "**Strengthening of the basis**: Increase in the basis\n",
    "**Weakening of the basis**: decrease in basis\n",
    "\n",
    "**Notation:**\n",
    "$S_1$ : Spot price at time $t_1$\n",
    "$S_2$ : Spot price at time $t_2$\n",
    "$F_1$ : Futures price at time $t_1$ \n",
    "$F_2$ : Futures price at time $t_2$\n",
    "$b_1$ : Basis at time $t_1$ \n",
    "$b_2$ : Basis at time $t_2$\n",
    "\n",
    "Given $b_1 = S_1 - F_1$ and $b_2 = S_2 - F_2$,\n",
    "The uncertainty associated with $b_2$ is known as basis risk.\n",
    "\n",
    "Effective price paid with hedging: \n",
    "$S2 + F1 - F2 = F1 + b2$ \n",
    "where b2 represents basis risk\n",
    "\n",
    "Cross hedging leads to increase in basis risk.\n",
    "F1 + (S2* - F2) + (S2 - S2*)\n",
    " \n",
    "## Choice of contract\n",
    "1 key factor affecting basis risk is the choice of futures contract to be used for hedging, there are 2 components:\n",
    "1. Choice of the asset underlying the futures contract\n",
    "2. Choice of the delivery month\n",
    "\n",
    "In general, basis risk increases as the time difference between the hedge expriation and the delivery month increases. A good rule of thumb is therefore to choose a delivery month that is as close as possible to, but later than, the expiration of the hedge"
   ]
  },
  {
   "cell_type": "markdown",
   "metadata": {},
   "source": [
    "\n",
    "## 3.4 Cross hedging\n",
    "\n",
    "**Hedge ratio** $h$: ratio of the size of the position taken in futures contracts to the size of the exposure.\n",
    "\n",
    "The hedger should choose a value for the hedge ratio that minimizes the variance of the value of the hedged position.\n",
    "\n",
    "\n",
    "## Calculating the minimum variance hedge ratio\n",
    "\n",
    "$\\Delta S$: change in spot price S during a period of time equal to the life of the hedge\n",
    "\n",
    "$\\Delta F$: change in futures price F during a period of time equal to the life of the hedge\n",
    "\n",
    "Assume approximately linear relationship:\n",
    "\n",
    "$\\Delta S = a + b \\Delta F + \\epsilon$\n",
    "\n",
    "where a and b are constants and $\\epsilon$ is an error term\n",
    "\n",
    "Suppose that the hedge ratio is h (% h of the exposure to S is hedged with futures), then the change in value of the position per unit of exposure to S is:\n",
    "$\\Delta S - h \\Delta F = a + (b - h) \\Delta F + \\epsilon$\n",
    "\n",
    "The standard deviation of this is minimized by setting h = b.\n",
    "\n",
    "Denote the minimum variance hedge ratio by h*. It follows from the formulat for the slope in linear regression that:\n",
    "\n",
    "$h^* = \\rho \\frac{\\sigma_S}{\\sigma_F}$\n",
    "\n",
    "**rho**: Product of correlation between $\\Delta S$ and $\\Delta F$\n",
    "\n",
    "**Hedge effectiveness**: Proportion of the variance that is eliminated by hedging. \n",
    "\n",
    "The $R^2$ from the regression of $\\Delta S$ against $\\Delta F$ and equals to $\\rho^2$\n",
    "\n",
    "## Optimal number of contracts\n",
    "\n",
    "$Q_A$: Size of position being hedged (units)\n",
    "\n",
    "$Q_F$: size of one futures contract (units)\n",
    "\n",
    "$N^*$: OPtimal number of futures contracts for hedging\n",
    "\n",
    "$N^* = h^* \\frac{ Q_A}{Q_F}$\n",
    "\n",
    "\n",
    "## Impact of daily settlement"
   ]
  },
  {
   "cell_type": "code",
   "execution_count": 5,
   "metadata": {},
   "outputs": [
    {
     "data": {
      "text/plain": [
       "'Example 3.3'"
      ]
     },
     "execution_count": 5,
     "metadata": {},
     "output_type": "execute_result"
    }
   ],
   "source": [
    "'''Example 3.3'''\n",
    "\n"
   ]
  },
  {
   "cell_type": "markdown",
   "metadata": {},
   "source": [
    "# 3.5 Stock Index Futures\n",
    "\n",
    "## Hedging an Equity Portfolio\n",
    "\n",
    "Stock index futures can be used to hedge a well-diversified equity portfolio. Define:\n",
    "\n",
    "$V_A$: Current value of the portfolio\n",
    "$V_F$: Current value of one futures contract \n",
    "\n",
    "IF portfolio mirrors the index, the optimal hedge ratio can be assumed to be 1.0 and number of futures contracts that should be shorted is:\n",
    "\n",
    "$N^* = \\frac{V_A}{V_F}$"
   ]
  },
  {
   "cell_type": "code",
   "execution_count": 6,
   "metadata": {},
   "outputs": [
    {
     "name": "stdout",
     "output_type": "stream",
     "text": [
      "N*=20.0 Contracts\n"
     ]
    }
   ],
   "source": [
    "'''Example'''\n",
    "# Portfolio worth $5,050,000 mirrors a well-diversified index\n",
    "V_A = 5050000\n",
    "# FUtures price is 1010 and each futures contract is on $250 times the index.\n",
    "V_F = 1010 * 250 \n",
    "N_STAR = V_A/V_F\n",
    "print(f\"N*={N_STAR} Contracts\")"
   ]
  },
  {
   "cell_type": "markdown",
   "metadata": {},
   "source": [
    "When portfolio does not mirror the index, we use the capital asset pricing model.\n",
    "\n",
    "$\\beta$: THE slope of the best-fit line obtained when excess return on the portfolio over the risk-free rate is regressed against the excees return of the index over the risk-free rate.\n",
    "- $\\beta=1$: Return on portfolio mirrors the return on the index\n",
    "- $\\beta=2.0$: Excess return on portfolio tends to be twice as great as excess return on the index.\n",
    "- $\\beta=0.5$: Return on portfolio tends to be half as great as the return on the index\n",
    "\n",
    "A portfolio with $\\beta=2.0$ tends to be twice as sensitive to movements in the index as a portfolio with $\\beta=1$. It is therefore necessary to use twice as many contracts to hedge the portfolio.\n",
    "\n",
    "In general:\n",
    "\n",
    "\\begin{equation*}\n",
    "N^* = \\beta \\frac{V_A}{V_F}\n",
    "\\tag{3.5}\n",
    "\\end{equation*}\n",
    "\n",
    "We illustrate this by extending our earlier example:\n",
    "- Index level = 1000\n",
    "- Index futures price = 1010\n",
    "- Value of portfolio = $5,050,000\n",
    "- Risk-free interest rate = 4% per annum\n",
    "- Divident yield on index = 1% per annum\n",
    "- Beta of portfolio = 1.5"
   ]
  },
  {
   "cell_type": "code",
   "execution_count": 25,
   "metadata": {},
   "outputs": [
    {
     "name": "stdout",
     "output_type": "stream",
     "text": [
      "N*=30.0 Contracts\n",
      "Gain from short futures postion=$810000.0\n",
      "final_ret_on_index_pct (%): -9.75 %\n",
      "expected_return_on_portfolio_pct : -15.125 %\n",
      "expected_value_of_portfolio : $4286187.5\n",
      "fin_expected_value_of_portfolio (%): 5096187.5 %\n"
     ]
    }
   ],
   "source": [
    "'''Example'''\n",
    "# Portfolio worth $5,050,000 mirrors a well-diversified index\n",
    "V_A = 5050000\n",
    "# FUtures price is 1010 and each futures contract is on $250 times the index.\n",
    "V_F = 1010 * 250 \n",
    "# beta:\n",
    "beta = 1.5 \n",
    "# Risk free interest rate across 3 months\n",
    "rr_int_rate = 0.04 *100 * (3/12)\n",
    "\n",
    "N_STAR = beta * V_A/V_F\n",
    "print(f\"N*={N_STAR} Contracts\")\n",
    "\n",
    "# Suppose index turns out to be 900 in 3 months and the futures price is 902. \n",
    "gain_from_short = N_STAR * (1010 - 902) * 250\n",
    "print(f\"Gain from short futures postion=${gain_from_short}\")\n",
    "\n",
    "# Loss on index = 10%\n",
    "ret_on_index_pct = ((900-1000)/1000) *100\n",
    "# Dividend percentage across 3 months\n",
    "dividend_pct = 0.01* (3/12) *100\n",
    "# When dividends taken into account, investor in index would earn \n",
    "fin_ret_on_index_pct = dividend_pct + ret_on_index_pct\n",
    "print(f\"final_ret_on_index_pct (%): {fin_ret_on_index_pct} %\")\n",
    "\n",
    "\n",
    "# Expected return on portfolio - Risk-free interest rate = Beta * (Return on index - Risk-free interest rate)\n",
    "expected_return_on_portfolio_pct = rr_int_rate + beta * (fin_ret_on_index_pct - rr_int_rate)\n",
    "print(f\"expected_return_on_portfolio_pct : {expected_return_on_portfolio_pct} %\")\n",
    "\n",
    "\n",
    "expected_value_of_portfolio = V_A * (1 + expected_return_on_portfolio_pct/100)\n",
    "print(f\"expected_value_of_portfolio : ${expected_value_of_portfolio}\")\n",
    "\n",
    "# FInal expected value includding gains from hedge\n",
    "fin_expected_value_of_portfolio = expected_value_of_portfolio + gain_from_short\n",
    "print(f\"fin_expected_value_of_portfolio (%): {fin_expected_value_of_portfolio} %\")"
   ]
  },
  {
   "cell_type": "markdown",
   "metadata": {},
   "source": [
    "It can be seen that the total expected value of the hedger’s position in 3 months is almost independent of the value of the index. This is what one would expect if the hedge is a good one"
   ]
  },
  {
   "cell_type": "markdown",
   "metadata": {},
   "source": [
    "## Reasons for Hedging an Equity Portfolio\n",
    "It is natural to ask why the hedger should go to the trouble of using futures contracts. To earn the risk-free interest rate, the hedger can simply sell the portfolio and invest the proceeds in a risk-free security.\n",
    "\n",
    "One answer to this question is that hedging can be justified if the hedger feels that the stocks in the portfolio have been chosen well. In these circumstances, the hedger might be very uncertain about the performance of the market as a whole, but confident that the stocks in the portfolio will outperform the market (after appropriate adjustments have been made for the beta of the portfolio).\n",
    "\n",
    "### A hedge using index futures removes the risk arising from market moves and leaves the hedger exposed only to the performance of the portfolio relative to the market.\n",
    "\n",
    "Another reason for hedging may be that the hedger is planning to hold a portfolio for a long period of time and requires short-term protection in an uncertain market situation. The alternative strategy of selling the portfolio and buying it back later might involve unacceptably high transaction costs"
   ]
  },
  {
   "cell_type": "markdown",
   "metadata": {},
   "source": [
    "\n",
    "## Changing the Beta of a portfolio\n",
    "\n",
    "In general, to change the beta of the portfolio from $\\beta$ to $\\beta^*$:\n",
    "- When $\\beta > \\beta^*$ (Increase in correlation), it requires a short position in :\n",
    "\\begin{equation*}\n",
    "  (\\beta - \\beta^*) \\frac{V_A}{V_F}\n",
    "\\end{equation*}\n",
    "-  When $\\beta < \\beta^*$, a long position in :\n",
    "\\begin{equation*}\n",
    "  (\\beta^* - \\beta ) \\frac{V_A}{V_F}\n",
    "\\end{equation*}"
   ]
  },
  {
   "cell_type": "markdown",
   "metadata": {},
   "source": [
    "# 3.6 Stack and roll\n",
    "Sometimes the expiration date of the hedge is later than the delivery dates of all the futures contracts that can be used. The hedger must then roll the hedge forward by closing out one futures contract and taking the same position in a futures contract with a later delivery date.\n",
    "\n",
    "This procedure is known as **stack and roll**.\n",
    "\n",
    "In practice, a company usually has an exposure every month to the underlying asset and uses a 1-month futures contract for hedging because it is the most liquid. Initially it enters into (“stacks”) sufficient contracts to cover its exposure to the end of its hedging horizon. One month later, it closes out all the contracts and “rolls” them into new 1-month contracts to cover its new exposure, and so on.\n"
   ]
  },
  {
   "cell_type": "markdown",
   "metadata": {},
   "source": [
    "# Appendix: Capital Asset Pricing Model\n",
    "\n",
    "Model used to relate the expected return from an asset to the risk of the return.\n",
    "\n",
    "**Systematic risk**: Risk related to the return from the market as a whole and cannot be diversified away\n",
    "\n",
    "**Nonsystematic risk**: Risk unique to the asset and can be diversified away by choosing a large portfolio of different assets.\n",
    "\n",
    "CAPM argues that the return should depend only on systematic risk.\n",
    "\\begin{equation*}\n",
    "  \\text{Expected Return on Asset} = R_F + \\beta (R_M - R_F)\n",
    "\\end{equation*}\n",
    "\n",
    "Where:\n",
    "- $R_M$ is the return on the portfolio of all available investments. Refered to as ***return on the market***. E.g. S&P 500\n",
    "- $R_F$ is the return on a risk-free investment\n",
    "- $\\beta$ is a parameter measuring systematic risk. Measure of sensitivity of its returns to returns from the market. It can be estimated from historical data as the slope obtained when the excess return on the asset over the risk-free rate is regressed against the excees return on the market over the risk-free rate.\n",
    "\n",
    "The derivation of CAPM requires a number of assumptions. 7 In particular:\n",
    "1. Investors care only about the expected return and standard deviation of the return\n",
    "from an asset.\n",
    "2. The returns from two assets are correlated with each other only because of their\n",
    "correlation with the return from the market. This is equivalent to assuming that\n",
    "there is only one factor driving returns.\n",
    "3. Investors focus on returns over a single period and that period is the same for all\n",
    "investors.\n",
    "4. Investors can borrow and lend at the same risk-free rate.\n",
    "5. Tax does not influence investment decisions.\n",
    "6. All investors make the same estimates of expected returns, standard deviations of\n",
    "returns, and correlations between returns."
   ]
  }
 ],
 "metadata": {
  "kernelspec": {
   "display_name": "Python 3",
   "language": "python",
   "name": "python3"
  },
  "language_info": {
   "codemirror_mode": {
    "name": "ipython",
    "version": 3
   },
   "file_extension": ".py",
   "mimetype": "text/x-python",
   "name": "python",
   "nbconvert_exporter": "python",
   "pygments_lexer": "ipython3",
   "version": "3.8.10"
  }
 },
 "nbformat": 4,
 "nbformat_minor": 2
}
